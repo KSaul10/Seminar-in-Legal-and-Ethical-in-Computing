{
  "nbformat": 4,
  "nbformat_minor": 0,
  "metadata": {
    "colab": {
      "provenance": [],
      "authorship_tag": "ABX9TyNXtYhlKQwc3C+NzraznnMd",
      "include_colab_link": true
    },
    "kernelspec": {
      "name": "python3",
      "display_name": "Python 3"
    },
    "language_info": {
      "name": "python"
    }
  },
  "cells": [
    {
      "cell_type": "markdown",
      "metadata": {
        "id": "view-in-github",
        "colab_type": "text"
      },
      "source": [
        "<a href=\"https://colab.research.google.com/github/KSaul10/Seminar-in-Legal-and-Ethical-in-Computing/blob/main/Untitled1.ipynb\" target=\"_parent\"><img src=\"https://colab.research.google.com/assets/colab-badge.svg\" alt=\"Open In Colab\"/></a>"
      ]
    },
    {
      "cell_type": "code",
      "source": [
        "!pip install cryptography"
      ],
      "metadata": {
        "colab": {
          "base_uri": "https://localhost:8080/"
        },
        "id": "VP57F9hbeaMQ",
        "outputId": "a490acf6-1da8-4ac9-e753-b5ebff9a6be7"
      },
      "execution_count": 4,
      "outputs": [
        {
          "output_type": "stream",
          "name": "stdout",
          "text": [
            "Requirement already satisfied: cryptography in /usr/local/lib/python3.11/dist-packages (43.0.3)\n",
            "Requirement already satisfied: cffi>=1.12 in /usr/local/lib/python3.11/dist-packages (from cryptography) (1.17.1)\n",
            "Requirement already satisfied: pycparser in /usr/local/lib/python3.11/dist-packages (from cffi>=1.12->cryptography) (2.22)\n"
          ]
        }
      ]
    },
    {
      "cell_type": "code",
      "source": [
        "from cryptography.fernet import Fernet\n",
        "\n",
        "#Generate key\n",
        "key = Fernet.generate_key()\n",
        "Suite = Fernet(key)\n",
        "\n",
        "#Message to encrypt\n",
        "message = b\"KWIHANGANA\"\n",
        "\n",
        "#Encrypt\n",
        "encrypted_message = Suite.encrypt(message)\n",
        "print(\"First_Name:\",encrypted_message)\n",
        "\n",
        "#Decrypt\n",
        "decrypted_message = Suite.decrypt(encrypted_message)\n",
        "print(\"First_Name:\",decrypted_message.decode())"
      ],
      "metadata": {
        "colab": {
          "base_uri": "https://localhost:8080/"
        },
        "id": "Wmdwtsh_icrc",
        "outputId": "4f29ff8b-9a23-4c4d-ea92-e0d40e65bfb9"
      },
      "execution_count": 8,
      "outputs": [
        {
          "output_type": "stream",
          "name": "stdout",
          "text": [
            "First_Name: b'gAAAAABnr1PwVkBq5F1pZ01mviEEWswOKPBt1iPYVY_WqYTwhd4qxOyGZIASoO5kbAUEmJhpgU0gERvxrUsI_G9gDLizOFzW_Q=='\n",
            "First_Name: KWIHANGANA\n"
          ]
        }
      ]
    }
  ]
}